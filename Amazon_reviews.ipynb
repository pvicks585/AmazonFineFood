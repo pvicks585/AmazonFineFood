{
  "nbformat": 4,
  "nbformat_minor": 0,
  "metadata": {
    "colab": {
      "name": "Final_Project.ipynb",
      "provenance": [],
      "collapsed_sections": [],
      "toc_visible": true
    },
    "kernelspec": {
      "name": "python3",
      "display_name": "Python 3"
    }
  },
  "cells": [
    {
      "cell_type": "markdown",
      "metadata": {
        "id": "A-G6iF_52CwM",
        "colab_type": "text"
      },
      "source": [
        "#__AMAZON FOOD REVIEWS__\n",
        "#SUPERVISED LEARNING"
      ]
    },
    {
      "cell_type": "markdown",
      "metadata": {
        "id": "gAp7EuP8Hpga",
        "colab_type": "text"
      },
      "source": [
        "#__Imported Modules__"
      ]
    },
    {
      "cell_type": "code",
      "metadata": {
        "id": "nfvqE_ahsF9Y",
        "colab_type": "code",
        "outputId": "ca954cfc-fbe4-4148-b6c8-f65325f1f34a",
        "colab": {
          "base_uri": "https://localhost:8080/",
          "height": 49
        }
      },
      "source": [
        "import numpy as np\n",
        "import pandas as pd\n",
        "import time\n",
        "import warnings\n",
        "import matplotlib.pyplot as plt\n",
        "import seaborn as sns \n",
        "from collections import Counter \n",
        "import re \n",
        "import string\n",
        "import nltk\n",
        "import seaborn as sns"
      ],
      "execution_count": 0,
      "outputs": [
        {
          "output_type": "stream",
          "text": [
            "/usr/local/lib/python3.6/dist-packages/statsmodels/tools/_testing.py:19: FutureWarning: pandas.util.testing is deprecated. Use the functions in the public API at pandas.testing instead.\n",
            "  import pandas.util.testing as tm\n"
          ],
          "name": "stderr"
        }
      ]
    },
    {
      "cell_type": "code",
      "metadata": {
        "id": "pBHPlX3OsgN-",
        "colab_type": "code",
        "outputId": "4b7261c8-57d9-41aa-93ef-c2413f1b10b2",
        "colab": {
          "base_uri": "https://localhost:8080/",
          "height": 205
        }
      },
      "source": [
        "from google.colab import drive\n",
        "import io\n",
        "import csv\n",
        "drive.mount('/content/drive')\n",
        "\n",
        "dataset = pd.read_csv('/content/drive/My Drive/Fine_food.csv', engine='python', error_bad_lines=False)\n",
        "dataset.head()"
      ],
      "execution_count": 31,
      "outputs": [
        {
          "output_type": "stream",
          "text": [
            "Drive already mounted at /content/drive; to attempt to forcibly remount, call drive.mount(\"/content/drive\", force_remount=True).\n"
          ],
          "name": "stdout"
        },
        {
          "output_type": "execute_result",
          "data": {
            "text/html": [
              "<div>\n",
              "<style scoped>\n",
              "    .dataframe tbody tr th:only-of-type {\n",
              "        vertical-align: middle;\n",
              "    }\n",
              "\n",
              "    .dataframe tbody tr th {\n",
              "        vertical-align: top;\n",
              "    }\n",
              "\n",
              "    .dataframe thead th {\n",
              "        text-align: right;\n",
              "    }\n",
              "</style>\n",
              "<table border=\"1\" class=\"dataframe\">\n",
              "  <thead>\n",
              "    <tr style=\"text-align: right;\">\n",
              "      <th></th>\n",
              "      <th>Id</th>\n",
              "      <th>ProductId</th>\n",
              "      <th>UserId</th>\n",
              "      <th>ProfileName</th>\n",
              "      <th>HelpfulnessNumerator</th>\n",
              "      <th>HelpfulnessDenominator</th>\n",
              "      <th>Score</th>\n",
              "      <th>Time</th>\n",
              "      <th>Summary</th>\n",
              "      <th>Text</th>\n",
              "    </tr>\n",
              "  </thead>\n",
              "  <tbody>\n",
              "    <tr>\n",
              "      <th>0</th>\n",
              "      <td>1</td>\n",
              "      <td>B001E4KFG0</td>\n",
              "      <td>A3SGXH7AUHU8GW</td>\n",
              "      <td>delmartian</td>\n",
              "      <td>1</td>\n",
              "      <td>1</td>\n",
              "      <td>5</td>\n",
              "      <td>1303862400</td>\n",
              "      <td>Good Quality Dog Food</td>\n",
              "      <td>I have bought several of the Vitality canned d...</td>\n",
              "    </tr>\n",
              "    <tr>\n",
              "      <th>1</th>\n",
              "      <td>2</td>\n",
              "      <td>B00813GRG4</td>\n",
              "      <td>A1D87F6ZCVE5NK</td>\n",
              "      <td>dll pa</td>\n",
              "      <td>0</td>\n",
              "      <td>0</td>\n",
              "      <td>1</td>\n",
              "      <td>1346976000</td>\n",
              "      <td>Not as Advertised</td>\n",
              "      <td>Product arrived labeled as Jumbo Salted Peanut...</td>\n",
              "    </tr>\n",
              "    <tr>\n",
              "      <th>2</th>\n",
              "      <td>3</td>\n",
              "      <td>B000LQOCH0</td>\n",
              "      <td>ABXLMWJIXXAIN</td>\n",
              "      <td>Natalia Corres \"Natalia Corres\"</td>\n",
              "      <td>1</td>\n",
              "      <td>1</td>\n",
              "      <td>4</td>\n",
              "      <td>1219017600</td>\n",
              "      <td>\"Delight\" says it all</td>\n",
              "      <td>This is a confection that has been around a fe...</td>\n",
              "    </tr>\n",
              "    <tr>\n",
              "      <th>3</th>\n",
              "      <td>4</td>\n",
              "      <td>B000UA0QIQ</td>\n",
              "      <td>A395BORC6FGVXV</td>\n",
              "      <td>Karl</td>\n",
              "      <td>3</td>\n",
              "      <td>3</td>\n",
              "      <td>2</td>\n",
              "      <td>1307923200</td>\n",
              "      <td>Cough Medicine</td>\n",
              "      <td>If you are looking for the secret ingredient i...</td>\n",
              "    </tr>\n",
              "    <tr>\n",
              "      <th>4</th>\n",
              "      <td>5</td>\n",
              "      <td>B006K2ZZ7K</td>\n",
              "      <td>A1UQRSCLF8GW1T</td>\n",
              "      <td>Michael D. Bigham \"M. Wassir\"</td>\n",
              "      <td>0</td>\n",
              "      <td>0</td>\n",
              "      <td>5</td>\n",
              "      <td>1350777600</td>\n",
              "      <td>Great taffy</td>\n",
              "      <td>Great taffy at a great price.  There was a wid...</td>\n",
              "    </tr>\n",
              "  </tbody>\n",
              "</table>\n",
              "</div>"
            ],
            "text/plain": [
              "   Id  ...                                               Text\n",
              "0   1  ...  I have bought several of the Vitality canned d...\n",
              "1   2  ...  Product arrived labeled as Jumbo Salted Peanut...\n",
              "2   3  ...  This is a confection that has been around a fe...\n",
              "3   4  ...  If you are looking for the secret ingredient i...\n",
              "4   5  ...  Great taffy at a great price.  There was a wid...\n",
              "\n",
              "[5 rows x 10 columns]"
            ]
          },
          "metadata": {
            "tags": []
          },
          "execution_count": 31
        }
      ]
    },
    {
      "cell_type": "markdown",
      "metadata": {
        "id": "zoR03cMCJNC-",
        "colab_type": "text"
      },
      "source": [
        "#__Data Exploration__"
      ]
    },
    {
      "cell_type": "markdown",
      "metadata": {
        "id": "O3-bIbCTmIlQ",
        "colab_type": "text"
      },
      "source": [
        "##*__Score Distribution__*\n",
        ">How are the majority of reviews scored?\n",
        "\n",
        "\n",
        "\n",
        "\n",
        "\n",
        "\n"
      ]
    },
    {
      "cell_type": "code",
      "metadata": {
        "id": "VzFSgjOEsn2L",
        "colab_type": "code",
        "outputId": "9a19d49b-c602-4e06-cf72-f7a8aa31c668",
        "colab": {
          "base_uri": "https://localhost:8080/",
          "height": 115
        }
      },
      "source": [
        "score_distribution = dataset['Score'].value_counts().sort_index(ascending=False) #Sort the scores in descending order\n",
        "score_distribution"
      ],
      "execution_count": 0,
      "outputs": [
        {
          "output_type": "execute_result",
          "data": {
            "text/plain": [
              "5    363122\n",
              "4     80655\n",
              "3     42640\n",
              "2     29769\n",
              "1     52268\n",
              "Name: Score, dtype: int64"
            ]
          },
          "metadata": {
            "tags": []
          },
          "execution_count": 3
        }
      ]
    },
    {
      "cell_type": "code",
      "metadata": {
        "id": "iMKZBgeJ7yD2",
        "colab_type": "code",
        "outputId": "4408a10b-1bd8-4947-b1ac-442e46c3170e",
        "colab": {
          "base_uri": "https://localhost:8080/",
          "height": 420
        }
      },
      "source": [
        "import matplotlib.pyplot as plt\n",
        "'''\n",
        "Plotting the Score Distribution of Amazon Reviews\n",
        "'''\n",
        "\n",
        "plt.figure(figsize=(8,6))\n",
        "rating_ax= plt.bar(score_distribution.index, score_distribution.values, alpha=0.8) #Plot the distribution of scores\n",
        "plt.title(\"Amazon Score Distribution\")\n",
        "plt.ylabel('# of Reviews', fontsize=10)\n",
        "plt.xlabel('Amazon Score Ratings ', fontsize=10)"
      ],
      "execution_count": 0,
      "outputs": [
        {
          "output_type": "execute_result",
          "data": {
            "text/plain": [
              "Text(0.5, 0, 'Amazon Score Ratings ')"
            ]
          },
          "metadata": {
            "tags": []
          },
          "execution_count": 4
        },
        {
          "output_type": "display_data",
          "data": {
            "image/png": "[encoded data removed]",
            "text/plain": [
              "<Figure size 576x432 with 1 Axes>"
            ]
          },
          "metadata": {
            "tags": []
          }
        }
      ]
    },
    {
      "cell_type": "markdown",
      "metadata": {
        "id": "fAuxPLxzmhvd",
        "colab_type": "text"
      },
      "source": [
        "##*__Helpfulness Distribution__*\n",
        ">Are the majority of reviews seen as helpful?\n",
        "\n"
      ]
    },
    {
      "cell_type": "code",
      "metadata": {
        "id": "E1MdX1rgdfhq",
        "colab_type": "code",
        "outputId": "129adee0-cc1d-485b-a90c-db6661c038c1",
        "colab": {
          "base_uri": "https://localhost:8080/",
          "height": 295
        }
      },
      "source": [
        "'''\n",
        "Plotting the helpfulnessscore distributions using pd cut\n",
        "to create 6 bins of equal length\n",
        "'''\n",
        "distrib = pd.cut(dataset['HelpfulnessNumerator'], bins=6).value_counts() #Cut the helpfulnessNumerator into 6 bins of equal length from eachother\n",
        "\n",
        "plt.hist(dataset['HelpfulnessNumerator'], bins=50, edgecolor=\"k\") #Plot the bins to show almost all reviews are found to be not useful\n",
        "plt.xlabel('# of People that a Found Review Helpful', fontsize=10)\n",
        "plt.ylabel('Frequency', fontsize=10)\n",
        "plt.title('Bar Plot to Show Distribution of Helpfulness Numerator')\n",
        "plt.show() #Most reviews have a helpfulness close to zero"
      ],
      "execution_count": 0,
      "outputs": [
        {
          "output_type": "display_data",
          "data": {
            "image/png": "[encoded data removed]",
            "text/plain": [
              "<Figure size 432x288 with 1 Axes>"
            ]
          },
          "metadata": {
            "tags": []
          }
        }
      ]
    },
    {
      "cell_type": "markdown",
      "metadata": {
        "id": "ZBqLDeBhmqMd",
        "colab_type": "text"
      },
      "source": [
        "##*__Text Length Correlations (Length vs. Review)__*\n",
        ">Is there a relationship between Length and Review Score?"
      ]
    },
    {
      "cell_type": "code",
      "metadata": {
        "id": "zGIZm6E6dgPX",
        "colab_type": "code",
        "outputId": "9e56064e-b49f-43d5-8ada-55f4c6a59af6",
        "colab": {
          "base_uri": "https://localhost:8080/",
          "height": 189
        }
      },
      "source": [
        "def len_func(text_review):\n",
        "  '''\n",
        "  Paramaters: Text review\n",
        "  ------------------\n",
        "  Function to that finds the length where each word\n",
        "  is a text feature seperated by a space\n",
        "  '''\n",
        "  return len(text_review.split(' '))\n",
        "\n",
        "dataset['Length'] = dataset['Text'].apply(len_func) #Find the length of each text review (keep in mind the text has not been cleaned)\n",
        "dataset.head()"
      ],
      "execution_count": 0,
      "outputs": [
        {
          "output_type": "execute_result",
          "data": {
            "text/html": [
              "<div>\n",
              "<style scoped>\n",
              "    .dataframe tbody tr th:only-of-type {\n",
              "        vertical-align: middle;\n",
              "    }\n",
              "\n",
              "    .dataframe tbody tr th {\n",
              "        vertical-align: top;\n",
              "    }\n",
              "\n",
              "    .dataframe thead th {\n",
              "        text-align: right;\n",
              "    }\n",
              "</style>\n",
              "<table border=\"1\" class=\"dataframe\">\n",
              "  <thead>\n",
              "    <tr style=\"text-align: right;\">\n",
              "      <th></th>\n",
              "      <th>Id</th>\n",
              "      <th>ProductId</th>\n",
              "      <th>UserId</th>\n",
              "      <th>ProfileName</th>\n",
              "      <th>HelpfulnessNumerator</th>\n",
              "      <th>HelpfulnessDenominator</th>\n",
              "      <th>Score</th>\n",
              "      <th>Time</th>\n",
              "      <th>Summary</th>\n",
              "      <th>Text</th>\n",
              "      <th>Length</th>\n",
              "    </tr>\n",
              "  </thead>\n",
              "  <tbody>\n",
              "    <tr>\n",
              "      <th>0</th>\n",
              "      <td>1</td>\n",
              "      <td>B001E4KFG0</td>\n",
              "      <td>A3SGXH7AUHU8GW</td>\n",
              "      <td>delmartian</td>\n",
              "      <td>1</td>\n",
              "      <td>1</td>\n",
              "      <td>5</td>\n",
              "      <td>1303862400</td>\n",
              "      <td>Good Quality Dog Food</td>\n",
              "      <td>I have bought several of the Vitality canned d...</td>\n",
              "      <td>49</td>\n",
              "    </tr>\n",
              "    <tr>\n",
              "      <th>1</th>\n",
              "      <td>2</td>\n",
              "      <td>B00813GRG4</td>\n",
              "      <td>A1D87F6ZCVE5NK</td>\n",
              "      <td>dll pa</td>\n",
              "      <td>0</td>\n",
              "      <td>0</td>\n",
              "      <td>1</td>\n",
              "      <td>1346976000</td>\n",
              "      <td>Not as Advertised</td>\n",
              "      <td>Product arrived labeled as Jumbo Salted Peanut...</td>\n",
              "      <td>31</td>\n",
              "    </tr>\n",
              "    <tr>\n",
              "      <th>2</th>\n",
              "      <td>3</td>\n",
              "      <td>B000LQOCH0</td>\n",
              "      <td>ABXLMWJIXXAIN</td>\n",
              "      <td>Natalia Corres \"Natalia Corres\"</td>\n",
              "      <td>1</td>\n",
              "      <td>1</td>\n",
              "      <td>4</td>\n",
              "      <td>1219017600</td>\n",
              "      <td>\"Delight\" says it all</td>\n",
              "      <td>This is a confection that has been around a fe...</td>\n",
              "      <td>99</td>\n",
              "    </tr>\n",
              "    <tr>\n",
              "      <th>3</th>\n",
              "      <td>4</td>\n",
              "      <td>B000UA0QIQ</td>\n",
              "      <td>A395BORC6FGVXV</td>\n",
              "      <td>Karl</td>\n",
              "      <td>3</td>\n",
              "      <td>3</td>\n",
              "      <td>2</td>\n",
              "      <td>1307923200</td>\n",
              "      <td>Cough Medicine</td>\n",
              "      <td>If you are looking for the secret ingredient i...</td>\n",
              "      <td>43</td>\n",
              "    </tr>\n",
              "    <tr>\n",
              "      <th>4</th>\n",
              "      <td>5</td>\n",
              "      <td>B006K2ZZ7K</td>\n",
              "      <td>A1UQRSCLF8GW1T</td>\n",
              "      <td>Michael D. Bigham \"M. Wassir\"</td>\n",
              "      <td>0</td>\n",
              "      <td>0</td>\n",
              "      <td>5</td>\n",
              "      <td>1350777600</td>\n",
              "      <td>Great taffy</td>\n",
              "      <td>Great taffy at a great price.  There was a wid...</td>\n",
              "      <td>30</td>\n",
              "    </tr>\n",
              "  </tbody>\n",
              "</table>\n",
              "</div>"
            ],
            "text/plain": [
              "   Id   ProductId  ...                                               Text Length\n",
              "0   1  B001E4KFG0  ...  I have bought several of the Vitality canned d...     49\n",
              "1   2  B00813GRG4  ...  Product arrived labeled as Jumbo Salted Peanut...     31\n",
              "2   3  B000LQOCH0  ...  This is a confection that has been around a fe...     99\n",
              "3   4  B000UA0QIQ  ...  If you are looking for the secret ingredient i...     43\n",
              "4   5  B006K2ZZ7K  ...  Great taffy at a great price.  There was a wid...     30\n",
              "\n",
              "[5 rows x 11 columns]"
            ]
          },
          "metadata": {
            "tags": []
          },
          "execution_count": 4
        }
      ]
    },
    {
      "cell_type": "code",
      "metadata": {
        "id": "wTepKi3tdgeF",
        "colab_type": "code",
        "outputId": "f2acd515-132b-407d-eb06-40bc9f4ec3e2",
        "colab": {
          "base_uri": "https://localhost:8080/",
          "height": 295
        }
      },
      "source": [
        "'''\n",
        "scatter plot the text lengths per each score\n",
        "to show that text length is NOT indicative\n",
        "of review score\n",
        "'''\n",
        "\n",
        "plt.scatter(dataset['Length'], dataset['Score']) #Show a scatter plot of text length and rating giving (no correlation)\n",
        "plt.title('Text Length versus Score')\n",
        "plt.xlabel('Text Length')\n",
        "plt.ylabel('Score')\n",
        "plt.show()"
      ],
      "execution_count": 0,
      "outputs": [
        {
          "output_type": "display_data",
          "data": {
            "image/png": "[encoded data removed]",
            "text/plain": [
              "<Figure size 432x288 with 1 Axes>"
            ]
          },
          "metadata": {
            "tags": [],
            "needs_background": "light"
          }
        }
      ]
    },
    {
      "cell_type": "markdown",
      "metadata": {
        "id": "WDagrkypKEqQ",
        "colab_type": "text"
      },
      "source": [
        "##*__Text Length Correlations (Length vs. Helpfulness)__*\n",
        ">Is there a relationship between Length and Helpfulness Score?"
      ]
    },
    {
      "cell_type": "code",
      "metadata": {
        "id": "A27xe2pNdre_",
        "colab_type": "code",
        "outputId": "5abcf1fc-da20-40da-af20-5b5949d9e70a",
        "colab": {
          "base_uri": "https://localhost:8080/",
          "height": 295
        }
      },
      "source": [
        "'''\n",
        "Scatter plot helpfulness by text length to show that longer reviews\n",
        "do not correlate to more helpful reviews\n",
        "'''\n",
        "\n",
        "helpfulness_dist=dataset.sort_values('HelpfulnessNumerator', ascending=False) #Sort dataset by the most helpful reviews\n",
        "plt.scatter(helpfulness_dist['Length'], helpfulness_dist['HelpfulnessNumerator']) #Plot a scatterplot of text length versus helpfulness\n",
        "plt.title('Text Length Versus Helpfulness')\n",
        "plt.xlabel('Text Length')\n",
        "plt.ylabel('HelpulnessNumerator')\n",
        "plt.show()"
      ],
      "execution_count": 0,
      "outputs": [
        {
          "output_type": "display_data",
          "data": {
            "image/png": "[encoded data removed]",
            "text/plain": [
              "<Figure size 432x288 with 1 Axes>"
            ]
          },
          "metadata": {
            "tags": [],
            "needs_background": "light"
          }
        }
      ]
    },
    {
      "cell_type": "markdown",
      "metadata": {
        "id": "Cvf7BqGcqriC",
        "colab_type": "text"
      },
      "source": [
        "##*__Cleaning the Text Column__*\n",
        ">Due to dataset size, a random sample of 50000 rows was taken\n"
      ]
    },
    {
      "cell_type": "code",
      "metadata": {
        "id": "-3ZKe65Bdrwc",
        "colab_type": "code",
        "outputId": "46baed5c-909e-4d2a-b6af-a6f306b7adbf",
        "colab": {
          "base_uri": "https://localhost:8080/",
          "height": 189
        }
      },
      "source": [
        "'''\n",
        "Take a sample of 50,000 rows\n",
        "'''\n",
        "\n",
        "\n",
        "#Can't take whole dataset, cleaning it would take way too long, over 550,000 rows\n",
        "random_dataset = dataset.sample(n=50000, random_state=1) #Take 50,000 random samples, random_state seeds it to reproduce the same result\n",
        "random_dataset = pd.DataFrame(random_dataset) #Make sure it is a dataframe\n",
        "random_dataset.drop(columns=['Id', 'ProductId', 'UserId', 'ProfileName', 'HelpfulnessDenominator', 'Time', 'HelpfulnessNumerator', 'Length'], axis=1, inplace=True) #Drop column that we will not use\n",
        "random_dataset.drop_duplicates(subset='Text', inplace=True) #Some text reviews repeat, which hurts our analysis\n",
        "random_dataset.head()\n"
      ],
      "execution_count": 0,
      "outputs": [
        {
          "output_type": "execute_result",
          "data": {
            "text/html": [
              "<div>\n",
              "<style scoped>\n",
              "    .dataframe tbody tr th:only-of-type {\n",
              "        vertical-align: middle;\n",
              "    }\n",
              "\n",
              "    .dataframe tbody tr th {\n",
              "        vertical-align: top;\n",
              "    }\n",
              "\n",
              "    .dataframe thead th {\n",
              "        text-align: right;\n",
              "    }\n",
              "</style>\n",
              "<table border=\"1\" class=\"dataframe\">\n",
              "  <thead>\n",
              "    <tr style=\"text-align: right;\">\n",
              "      <th></th>\n",
              "      <th>Score</th>\n",
              "      <th>Summary</th>\n",
              "      <th>Text</th>\n",
              "    </tr>\n",
              "  </thead>\n",
              "  <tbody>\n",
              "    <tr>\n",
              "      <th>288312</th>\n",
              "      <td>5</td>\n",
              "      <td>Cherry Pie Larabar</td>\n",
              "      <td>I love the Cherry Pie Lara bar.  Best and tast...</td>\n",
              "    </tr>\n",
              "    <tr>\n",
              "      <th>431726</th>\n",
              "      <td>5</td>\n",
              "      <td>Melitta Coffee</td>\n",
              "      <td>Melitta Cafe COllection Blanc et Noir coffee h...</td>\n",
              "    </tr>\n",
              "    <tr>\n",
              "      <th>110311</th>\n",
              "      <td>5</td>\n",
              "      <td>great treat</td>\n",
              "      <td>my girls absolutely loved this tuna. they were...</td>\n",
              "    </tr>\n",
              "    <tr>\n",
              "      <th>91855</th>\n",
              "      <td>5</td>\n",
              "      <td>Daily Calming</td>\n",
              "      <td>The vendor is fast and dependable. The tea is ...</td>\n",
              "    </tr>\n",
              "    <tr>\n",
              "      <th>338855</th>\n",
              "      <td>5</td>\n",
              "      <td>Best Canned Artichokes Out There!</td>\n",
              "      <td>UPDATE - 8/9/2010&lt;br /&gt;A lot can happen in jus...</td>\n",
              "    </tr>\n",
              "  </tbody>\n",
              "</table>\n",
              "</div>"
            ],
            "text/plain": [
              "        Score  ...                                               Text\n",
              "288312      5  ...  I love the Cherry Pie Lara bar.  Best and tast...\n",
              "431726      5  ...  Melitta Cafe COllection Blanc et Noir coffee h...\n",
              "110311      5  ...  my girls absolutely loved this tuna. they were...\n",
              "91855       5  ...  The vendor is fast and dependable. The tea is ...\n",
              "338855      5  ...  UPDATE - 8/9/2010<br />A lot can happen in jus...\n",
              "\n",
              "[5 rows x 3 columns]"
            ]
          },
          "metadata": {
            "tags": []
          },
          "execution_count": 7
        }
      ]
    },
    {
      "cell_type": "code",
      "metadata": {
        "id": "S4kbbpKCmNd9",
        "colab_type": "code",
        "outputId": "2d34710c-14f2-4cea-eed5-ef2c8bc9c879",
        "colab": {
          "base_uri": "https://localhost:8080/",
          "height": 255
        }
      },
      "source": [
        "import nltk\n",
        "nltk.download('punkt')\n",
        "nltk.download('stopwords')\n",
        "from nltk.corpus import stopwords\n",
        "from nltk.tokenize import word_tokenize\n",
        "stop_words = stopwords.words('english')\n",
        "\n",
        "\n",
        "def remove_stopwords(sentence):\n",
        "    '''\n",
        "  Parameters: sentence field\n",
        "  -------------------------\n",
        "  Convert text to tokens\n",
        "  Remove stopwords and keep words that only contain letters\n",
        "  '''\n",
        "    sentence = str(sentence).lower() #Places each sentence as a string\n",
        "    tokens = word_tokenize(sentence) #Create tokens for each word in the sentence\n",
        "    words = [word for word in tokens if word not in stop_words] #Keep a word if it is not a stopword\n",
        "    words = [word for word in words if word.isalpha() and word not in 'br'] #Keep a word if it only contains letters, the br html tag repeats frequently\n",
        "    return words\n",
        "\n",
        "random_dataset['CleanedText'] = random_dataset['Text'].apply(remove_stopwords) #Clean the Text dataset\n",
        "random_dataset['CleanedSummary'] = random_dataset['Summary'].apply(remove_stopwords) #Clean the Summary Dataset\n",
        "random_dataset.head()"
      ],
      "execution_count": 0,
      "outputs": [
        {
          "output_type": "stream",
          "text": [
            "[nltk_data] Downloading package punkt to /root/nltk_data...\n",
            "[nltk_data]   Package punkt is already up-to-date!\n",
            "[nltk_data] Downloading package stopwords to /root/nltk_data...\n",
            "[nltk_data]   Package stopwords is already up-to-date!\n"
          ],
          "name": "stdout"
        },
        {
          "output_type": "execute_result",
          "data": {
            "text/html": [
              "<div>\n",
              "<style scoped>\n",
              "    .dataframe tbody tr th:only-of-type {\n",
              "        vertical-align: middle;\n",
              "    }\n",
              "\n",
              "    .dataframe tbody tr th {\n",
              "        vertical-align: top;\n",
              "    }\n",
              "\n",
              "    .dataframe thead th {\n",
              "        text-align: right;\n",
              "    }\n",
              "</style>\n",
              "<table border=\"1\" class=\"dataframe\">\n",
              "  <thead>\n",
              "    <tr style=\"text-align: right;\">\n",
              "      <th></th>\n",
              "      <th>Score</th>\n",
              "      <th>Summary</th>\n",
              "      <th>Text</th>\n",
              "      <th>CleanedText</th>\n",
              "      <th>CleanedSummary</th>\n",
              "    </tr>\n",
              "  </thead>\n",
              "  <tbody>\n",
              "    <tr>\n",
              "      <th>288312</th>\n",
              "      <td>5</td>\n",
              "      <td>Cherry Pie Larabar</td>\n",
              "      <td>I love the Cherry Pie Lara bar.  Best and tast...</td>\n",
              "      <td>[love, cherry, pie, lara, bar, best, tasty, ba...</td>\n",
              "      <td>[cherry, pie, larabar]</td>\n",
              "    </tr>\n",
              "    <tr>\n",
              "      <th>431726</th>\n",
              "      <td>5</td>\n",
              "      <td>Melitta Coffee</td>\n",
              "      <td>Melitta Cafe COllection Blanc et Noir coffee h...</td>\n",
              "      <td>[melitta, cafe, collection, blanc, et, noir, c...</td>\n",
              "      <td>[melitta, coffee]</td>\n",
              "    </tr>\n",
              "    <tr>\n",
              "      <th>110311</th>\n",
              "      <td>5</td>\n",
              "      <td>great treat</td>\n",
              "      <td>my girls absolutely loved this tuna. they were...</td>\n",
              "      <td>[girls, absolutely, loved, tuna, heaven, could...</td>\n",
              "      <td>[great, treat]</td>\n",
              "    </tr>\n",
              "    <tr>\n",
              "      <th>91855</th>\n",
              "      <td>5</td>\n",
              "      <td>Daily Calming</td>\n",
              "      <td>The vendor is fast and dependable. The tea is ...</td>\n",
              "      <td>[vendor, fast, dependable, tea, simply, best, ...</td>\n",
              "      <td>[daily, calming]</td>\n",
              "    </tr>\n",
              "    <tr>\n",
              "      <th>338855</th>\n",
              "      <td>5</td>\n",
              "      <td>Best Canned Artichokes Out There!</td>\n",
              "      <td>UPDATE - 8/9/2010&lt;br /&gt;A lot can happen in jus...</td>\n",
              "      <td>[update, lot, happen, couple, months, last, tw...</td>\n",
              "      <td>[best, canned, artichokes]</td>\n",
              "    </tr>\n",
              "  </tbody>\n",
              "</table>\n",
              "</div>"
            ],
            "text/plain": [
              "        Score  ...              CleanedSummary\n",
              "288312      5  ...      [cherry, pie, larabar]\n",
              "431726      5  ...           [melitta, coffee]\n",
              "110311      5  ...              [great, treat]\n",
              "91855       5  ...            [daily, calming]\n",
              "338855      5  ...  [best, canned, artichokes]\n",
              "\n",
              "[5 rows x 5 columns]"
            ]
          },
          "metadata": {
            "tags": []
          },
          "execution_count": 9
        }
      ]
    },
    {
      "cell_type": "markdown",
      "metadata": {
        "id": "ejIzqTLotpJf",
        "colab_type": "text"
      },
      "source": [
        "##*__Word Frequencies__*\n",
        ">Create a function that takes word counts for each unique word"
      ]
    },
    {
      "cell_type": "code",
      "metadata": {
        "id": "C62mylQ0dsPL",
        "colab_type": "code",
        "colab": {}
      },
      "source": [
        "def word_counter(text_series):\n",
        "  '''\n",
        "  Parameters: Text Field\n",
        "  ------------------\n",
        "  Count the frequencies of certain words, keep in mind\n",
        "  each word is being lowercased for consistency\n",
        "  Then sort the frequencies\n",
        "  '''\n",
        "  word_frequency = {}\n",
        "  for text in text_series: #For each text in the text series\n",
        "      for word in text:  #For each word in each text\n",
        "        if word.lower() in word_frequency: #Lowercase each word to make sure there are no repeats\n",
        "            word_frequency[word.lower()] += 1 #Add to the frequency of that word\n",
        "        else:\n",
        "            word_frequency[word.lower()] = 1 #Create a new word in the dict\n",
        "  \n",
        "  freq_list = []\n",
        "  for key, value in word_frequency.items(): #Append the key, value from the dict into a list of lists\n",
        "      temp = [key,value]\n",
        "      freq_list.append(temp)\n",
        "  \n",
        "  def takeSecond(elem):\n",
        "    return elem[1]\n",
        "  \n",
        "  freq_list.sort(key=takeSecond, reverse=True) #Sort the list of lists of words and their freq by descending freq\n",
        "  return freq_list"
      ],
      "execution_count": 0,
      "outputs": []
    },
    {
      "cell_type": "markdown",
      "metadata": {
        "id": "IVaF46eCttnl",
        "colab_type": "text"
      },
      "source": [
        "###__*Text Review Word Frequencies*__"
      ]
    },
    {
      "cell_type": "code",
      "metadata": {
        "id": "spIxbFTMeYc_",
        "colab_type": "code",
        "outputId": "500ec9dc-3a0e-48b4-8103-674d50d417b2",
        "colab": {
          "base_uri": "https://localhost:8080/",
          "height": 366
        }
      },
      "source": [
        "'''\n",
        "Take the top 20 words that appear in the amazon reviews Text column - which we have\n",
        "as \"CleanedText\"\n",
        "and plot their frequency\n",
        "'''\n",
        "\n",
        "\n",
        "top_words = word_counter(random_dataset['CleanedText'])[:20]\n",
        "\n",
        "words = [top_words[i][0] for i in range(len(top_words))]\n",
        "freq = [top_words[i][1] for i in range(len(top_words))]\n",
        "plt.figure(figsize=(15,5))\n",
        "plt.plot(words,\n",
        "         \n",
        "         freq, 'bo')\n",
        "plt.title('Top Words in Random Text Reviews')\n",
        "plt.xlabel('Top Words')\n",
        "plt.ylabel('Frequency')"
      ],
      "execution_count": 0,
      "outputs": [
        {
          "output_type": "execute_result",
          "data": {
            "text/plain": [
              "Text(0, 0.5, 'Frequency')"
            ]
          },
          "metadata": {
            "tags": []
          },
          "execution_count": 12
        },
        {
          "output_type": "display_data",
          "data": {
            "image/png": "[encoded data removed]",
            "text/plain": [
              "<Figure size 1080x360 with 1 Axes>"
            ]
          },
          "metadata": {
            "tags": [],
            "needs_background": "light"
          }
        }
      ]
    },
    {
      "cell_type": "markdown",
      "metadata": {
        "id": "0hpp2qKptyY3",
        "colab_type": "text"
      },
      "source": [
        "###__*Summary Review Word Frequencies*__"
      ]
    },
    {
      "cell_type": "code",
      "metadata": {
        "id": "WXrkyDJfeYvK",
        "colab_type": "code",
        "outputId": "b6ba2af1-00e8-41dd-c7f9-3cb53f882860",
        "colab": {
          "base_uri": "https://localhost:8080/",
          "height": 366
        }
      },
      "source": [
        "'''\n",
        "Take the top 20 words that appear in the amazon reviews Summary column - which we have\n",
        "as \"CleanedSUmmary\"\n",
        "and plot their frequency\n",
        "'''\n",
        "\n",
        "\n",
        "top_words = word_counter(random_dataset['CleanedSummary'])[:20]\n",
        "\n",
        "words = [top_words[i][0] for i in range(len(top_words))]\n",
        "freq = [top_words[i][1] for i in range(len(top_words))]\n",
        "plt.figure(figsize=(15,5))\n",
        "plt.plot(words, freq, 'bo')\n",
        "plt.title('Top Words in Random Summary Reviews')\n",
        "plt.xlabel('Top Words')\n",
        "plt.ylabel('Frequency')"
      ],
      "execution_count": 0,
      "outputs": [
        {
          "output_type": "execute_result",
          "data": {
            "text/plain": [
              "Text(0, 0.5, 'Frequency')"
            ]
          },
          "metadata": {
            "tags": []
          },
          "execution_count": 13
        },
        {
          "output_type": "display_data",
          "data": {
            "image/png": "[encoded data removed]",
            "text/plain": [
              "<Figure size 1080x360 with 1 Axes>"
            ]
          },
          "metadata": {
            "tags": [],
            "needs_background": "light"
          }
        }
      ]
    },
    {
      "cell_type": "markdown",
      "metadata": {
        "id": "Lf_DSL-GsW8I",
        "colab_type": "text"
      },
      "source": [
        "#__Predictive Analysis__\n"
      ]
    },
    {
      "cell_type": "markdown",
      "metadata": {
        "id": "SJlFVTEEZsih",
        "colab_type": "text"
      },
      "source": [
        "##___Creating a Binary Rating Column___\n",
        ">Assigning a positive or negative rating for logistic regression"
      ]
    },
    {
      "cell_type": "code",
      "metadata": {
        "id": "Y_9RvEwceZAI",
        "colab_type": "code",
        "outputId": "a4917696-0719-4708-8c4f-33188fbe0311",
        "colab": {
          "base_uri": "https://localhost:8080/",
          "height": 189
        }
      },
      "source": [
        "def score_preprocess(score):  #Create a column where it is either positive or negative - use this for predictive modeling (prob should be 0 or 1 (binary))\n",
        "    '''\n",
        "    Parameter: Score Rating\n",
        "    ------------------\n",
        "    Return whether a rating is postive or negative\n",
        "    '''\n",
        "    if score > 3:\n",
        "        return 'positive'  #If the score is 4 or 5 - it is positive\n",
        "    else:\n",
        "      return 'negative' #If the score is 1, 2, 3 - it is negative\n",
        "\n",
        "random_dataset['Rating'] = random_dataset['Score'].apply(score_preprocess) #Apply the score_preprocess function to the 'Score' column\n",
        "random_dataset.drop(columns=['Summary', 'Text'], axis=1, inplace=True) #Drop unnecessary columns, make sure inplace is True so the change is true\n",
        "random_dataset.head()"
      ],
      "execution_count": 0,
      "outputs": [
        {
          "output_type": "execute_result",
          "data": {
            "text/html": [
              "<div>\n",
              "<style scoped>\n",
              "    .dataframe tbody tr th:only-of-type {\n",
              "        vertical-align: middle;\n",
              "    }\n",
              "\n",
              "    .dataframe tbody tr th {\n",
              "        vertical-align: top;\n",
              "    }\n",
              "\n",
              "    .dataframe thead th {\n",
              "        text-align: right;\n",
              "    }\n",
              "</style>\n",
              "<table border=\"1\" class=\"dataframe\">\n",
              "  <thead>\n",
              "    <tr style=\"text-align: right;\">\n",
              "      <th></th>\n",
              "      <th>Score</th>\n",
              "      <th>CleanedText</th>\n",
              "      <th>CleanedSummary</th>\n",
              "      <th>Rating</th>\n",
              "    </tr>\n",
              "  </thead>\n",
              "  <tbody>\n",
              "    <tr>\n",
              "      <th>288312</th>\n",
              "      <td>5</td>\n",
              "      <td>[love, cherry, pie, lara, bar, best, tasty, ba...</td>\n",
              "      <td>[cherry, pie, larabar]</td>\n",
              "      <td>positive</td>\n",
              "    </tr>\n",
              "    <tr>\n",
              "      <th>431726</th>\n",
              "      <td>5</td>\n",
              "      <td>[melitta, cafe, collection, blanc, et, noir, c...</td>\n",
              "      <td>[melitta, coffee]</td>\n",
              "      <td>positive</td>\n",
              "    </tr>\n",
              "    <tr>\n",
              "      <th>110311</th>\n",
              "      <td>5</td>\n",
              "      <td>[girls, absolutely, loved, tuna, heaven, could...</td>\n",
              "      <td>[great, treat]</td>\n",
              "      <td>positive</td>\n",
              "    </tr>\n",
              "    <tr>\n",
              "      <th>91855</th>\n",
              "      <td>5</td>\n",
              "      <td>[vendor, fast, dependable, tea, simply, best, ...</td>\n",
              "      <td>[daily, calming]</td>\n",
              "      <td>positive</td>\n",
              "    </tr>\n",
              "    <tr>\n",
              "      <th>338855</th>\n",
              "      <td>5</td>\n",
              "      <td>[update, lot, happen, couple, months, last, tw...</td>\n",
              "      <td>[best, canned, artichokes]</td>\n",
              "      <td>positive</td>\n",
              "    </tr>\n",
              "  </tbody>\n",
              "</table>\n",
              "</div>"
            ],
            "text/plain": [
              "        Score  ...    Rating\n",
              "288312      5  ...  positive\n",
              "431726      5  ...  positive\n",
              "110311      5  ...  positive\n",
              "91855       5  ...  positive\n",
              "338855      5  ...  positive\n",
              "\n",
              "[5 rows x 4 columns]"
            ]
          },
          "metadata": {
            "tags": []
          },
          "execution_count": 14
        }
      ]
    },
    {
      "cell_type": "markdown",
      "metadata": {
        "id": "LDnW98OjEy1G",
        "colab_type": "text"
      },
      "source": [
        "##___Partitioning the Data___\n",
        ">Splitting the dataset into a training set and testing set"
      ]
    },
    {
      "cell_type": "code",
      "metadata": {
        "id": "SH1hhJMfeZRN",
        "colab_type": "code",
        "outputId": "9aa1cb30-382e-4c7e-c525-5d9f8b8da2bc",
        "colab": {
          "base_uri": "https://localhost:8080/",
          "height": 33
        }
      },
      "source": [
        "from sklearn.model_selection import train_test_split\n",
        "train, test = train_test_split(random_dataset, test_size=0.2) #Split dataset into 80% training, 20% test\n",
        "print('There are {:d} items in the training set and {:d} in the testing set'.format(len(train), len(test)))"
      ],
      "execution_count": 0,
      "outputs": [
        {
          "output_type": "stream",
          "text": [
            "There are 37025 items in the training set and 9257 in the testing set\n"
          ],
          "name": "stdout"
        }
      ]
    },
    {
      "cell_type": "markdown",
      "metadata": {
        "id": "kWdRkC_VBm0k",
        "colab_type": "text"
      },
      "source": [
        "##___Creating the Dependent Variable___\n",
        ">Our Dependent Varaible Will Be The Product's Rating\n",
        "\n"
      ]
    },
    {
      "cell_type": "code",
      "metadata": {
        "id": "V0Gju6grBhDG",
        "colab_type": "code",
        "colab": {}
      },
      "source": [
        "train_y = train[\"Rating\"] #The y value for the train set is the rating column\n",
        "test_y = test[\"Rating\"] #The y value for the test set is the rating column"
      ],
      "execution_count": 0,
      "outputs": []
    },
    {
      "cell_type": "markdown",
      "metadata": {
        "id": "fVSSa-l9Hhk-",
        "colab_type": "text"
      },
      "source": [
        "##___Preparing the Text Data for the CountVectorizer___\n",
        ">Converting text reviews to list of strings so CountVectorizer can be used with data"
      ]
    },
    {
      "cell_type": "markdown",
      "metadata": {
        "id": "WiXqETMldoe9",
        "colab_type": "text"
      },
      "source": [
        "- Each text review must be converted into a list of strings for the CountVectorizer to be applied\n",
        "- Capitlization can be ignored for now"
      ]
    },
    {
      "cell_type": "code",
      "metadata": {
        "id": "VmF-_qhjZ6ua",
        "colab_type": "code",
        "outputId": "693ac7d9-560e-49e9-b6f0-bcbd219881eb",
        "colab": {
          "base_uri": "https://localhost:8080/",
          "height": 119
        }
      },
      "source": [
        "def series_to_string(text_series):\n",
        "  '''\n",
        "  Parameters: text review series\n",
        "  ------------------------------\n",
        "  Convert each review into a list of strings to later apply\n",
        "  the CountVectorizer\n",
        "  '''\n",
        "  sentence = [] #Empty list to append strings to\n",
        "  for row in text_series:\n",
        "    together = '' #Empty string to start off with\n",
        "    for word in row:\n",
        "      together += ' ' + word #Add a space in between each word\n",
        "    sentence.append(together.lstrip()) #Use lstrip to remove the lead whitespace in front of the string\n",
        "  return sentence\n",
        "\n",
        "#APPLY TO THE TRAINING DATA\n",
        "train_x = series_to_string(train['CleanedText']) #Apply the function to the cleanedtext series\n",
        "train_x[:5]"
      ],
      "execution_count": 29,
      "outputs": [
        {
          "output_type": "execute_result",
          "data": {
            "text/plain": [
              "['initially fan starbucks via iced coffee convenient tasty affordable alternative iced coffee however taking product home shocked discover much sugar contains first thing notice emptying packet cup huge amount white granules staring back via packet contains sugar coffee equivalent six packets sugar starbucks says via two servings meaning sugar likely whole thing water one sitting empty calories adding cream pros quick cons much sugar slightly needs improvement starbucks needs either cut sugar content half make light version using splenda stevia sweetener',\n",
              " 'first recieved product promptly enjoyed every cup drank far',\n",
              " 'bars best health bars ever eaten moist sweet previous favorite kind almond apricot think could outdone wrong mango macadamia slight forerunner find craving bars time kind company outdone bars yummy good could better',\n",
              " 'fruit ropes innovative delicious even though marketed child product truly great kids ages enjoy much grandchildren especially licorice lover twists make excellent healthy substitute course nothing compare child eating real piece fruit get daily requirements finicky eaters treat time fruit snacks beat grandchildren highly recommend',\n",
              " 'trying cut back carbs add protein diet discovered wonderful tasty snack calories even oz pack much snack divide packs half healthy snack helps satisfy hunger late afternoon also good breakfast run wasabi adds wonderful']"
            ]
          },
          "metadata": {
            "tags": []
          },
          "execution_count": 29
        }
      ]
    },
    {
      "cell_type": "code",
      "metadata": {
        "id": "uS3Pc8OOeGrX",
        "colab_type": "code",
        "outputId": "a839dce8-5a8e-4515-a63f-40c089be813e",
        "colab": {
          "base_uri": "https://localhost:8080/",
          "height": 119
        }
      },
      "source": [
        "#APPLY series_to_string function to the test data\n",
        "test_x = series_to_string(test['CleanedText']) #Apply function created above to the test data\n",
        "test_x[:5]"
      ],
      "execution_count": 0,
      "outputs": [
        {
          "output_type": "execute_result",
          "data": {
            "text/plain": [
              "['coffee connoisseur enjoy found gevalia dark chocolate truffle ground coffee nice blend especially smell brewing um brew quite nice hints flavor flavor coffee though strong dark chocolate smell pleasant change regular coffee',\n",
              " 'favorite chocolate milk powder since kid version tastes good sugar definitely good way save teeth especially drink whole gallon milk maybe hot day nesquik remember buying bunny shaped bins years ago wish still least sure areas bins even bunny shaped recycle friendly give one two kids put crayons blue bin another plus',\n",
              " 'aroma hartz smoked pork bone downright tempting taste buds humans extent reasons like product splinters badly lb dalmatian ate one last night today vomited shards bone lot everything else ate could pass result bone fragments blocking passageway intestines please purchase bones dog care enough find something else',\n",
              " 'good coffee style gave try reviews would give stars aroma',\n",
              " 'let first say avid green tea drinker go anywhere tea bags day always hunt new better teas said really high hopes authentic japanese sencha unfortunately fan brewed first batch tea noticed green color hard find teas america started smell tea steeping smelled like something familiar could put finger smell exactly bad definitely wanted tea smell eventually hit tea smelled like chicken noodle soup first thought crazy people would walk house ask making soup taste strong unusual needless say used tea bags wo buying']"
            ]
          },
          "metadata": {
            "tags": []
          },
          "execution_count": 19
        }
      ]
    },
    {
      "cell_type": "markdown",
      "metadata": {
        "id": "yLF08GhCsj1l",
        "colab_type": "text"
      },
      "source": [
        "##___Implementing the Count Vectorizer___\n",
        ">The CountVectorizer provides a simple way to both tokenize a collection of text documents and build a vocabulary of known words\n"
      ]
    },
    {
      "cell_type": "markdown",
      "metadata": {
        "id": "ePFgwuMkduTA",
        "colab_type": "text"
      },
      "source": [
        "What to Know:\n",
        "- An encoded vector is returned with a length of the entire vocabulary and an integer count for the number of times each word appeared in the document.\n"
      ]
    },
    {
      "cell_type": "code",
      "metadata": {
        "id": "FM9nI_fUrx2c",
        "colab_type": "code",
        "colab": {}
      },
      "source": [
        "from sklearn.feature_extraction.text import CountVectorizer\n",
        "\n",
        "vectorizer = CountVectorizer() #Instantiate the count vectorizer, use to numerically represent words\n",
        "vector = vectorizer.fit_transform(train_x) #To create a vector, we can do so by passing the text into the vectorizer to get back counts"
      ],
      "execution_count": 0,
      "outputs": []
    },
    {
      "cell_type": "markdown",
      "metadata": {
        "id": "Fd9SwCsoC1t0",
        "colab_type": "text"
      },
      "source": [
        "##___Vocabulary Dictionary___\n",
        ">Dictionary of review words with indexes "
      ]
    },
    {
      "cell_type": "markdown",
      "metadata": {
        "id": "iYW9K1UbgqgZ",
        "colab_type": "text"
      },
      "source": [
        "- We can see that all words were made lowercase by default and that the punctuation was ignored."
      ]
    },
    {
      "cell_type": "code",
      "metadata": {
        "id": "hwokHgSQCy_U",
        "colab_type": "code",
        "outputId": "aaece4e0-3517-4e1b-f631-9a0aca9988c0",
        "colab": {
          "base_uri": "https://localhost:8080/",
          "height": 99
        }
      },
      "source": [
        "import itertools\n",
        "'''\n",
        "Quckly showing the inside work of the vectorizer\n",
        "'''\n",
        "\n",
        "#Shows a word and its index - its numerical identifier\n",
        "x = itertools.islice(vectorizer.vocabulary_.items(), 0, 5)\n",
        "\n",
        "for key, value in x:\n",
        "    print(key, value)"
      ],
      "execution_count": 34,
      "outputs": [
        {
          "output_type": "stream",
          "text": [
            "initially 15437\n",
            "fan 10911\n",
            "starbucks 28974\n",
            "via 32979\n",
            "iced 14856\n"
          ],
          "name": "stdout"
        }
      ]
    },
    {
      "cell_type": "markdown",
      "metadata": {
        "id": "wAA3kbpwDIBL",
        "colab_type": "text"
      },
      "source": [
        "##___Vector Array of Word Count___\n",
        ">Encoded vector showing count of occurence in array form"
      ]
    },
    {
      "cell_type": "markdown",
      "metadata": {
        "id": "7u64NAPogmt7",
        "colab_type": "text"
      },
      "source": [
        "- Since the vocabulary is so large, most counts return zero"
      ]
    },
    {
      "cell_type": "code",
      "metadata": {
        "id": "aQR3mt3XCq7u",
        "colab_type": "code",
        "outputId": "aefb411f-7ea9-40fd-dde6-d1b06e785b0e",
        "colab": {
          "base_uri": "https://localhost:8080/",
          "height": 132
        }
      },
      "source": [
        "print(vector.toarray())"
      ],
      "execution_count": 0,
      "outputs": [
        {
          "output_type": "stream",
          "text": [
            "[[0 0 0 ... 0 0 0]\n",
            " [0 0 0 ... 0 0 0]\n",
            " [0 0 0 ... 0 0 0]\n",
            " ...\n",
            " [0 0 0 ... 0 0 0]\n",
            " [0 0 0 ... 0 0 0]\n",
            " [0 0 0 ... 0 0 0]]\n"
          ],
          "name": "stdout"
        }
      ]
    },
    {
      "cell_type": "markdown",
      "metadata": {
        "id": "FmcP6L1xCHzf",
        "colab_type": "text"
      },
      "source": [
        "##___Word Count Dataframe___\n",
        ">An easier way to see the above vector array"
      ]
    },
    {
      "cell_type": "markdown",
      "metadata": {
        "id": "71eD_PswgijO",
        "colab_type": "text"
      },
      "source": [
        "- Again, the vocabulary and amount of reviews are too large to see where certain words occur in each review"
      ]
    },
    {
      "cell_type": "code",
      "metadata": {
        "id": "m4UByR_REVAu",
        "colab_type": "code",
        "outputId": "6ca0fe25-eef9-48f1-e34c-b39dd4a03714",
        "colab": {
          "base_uri": "https://localhost:8080/",
          "height": 185
        }
      },
      "source": [
        "pd.DataFrame(data=vector.toarray()[:2], index=['Review 1', 'Review 2'],\n",
        "             columns=vectorizer.get_feature_names()) #The data is the vector created"
      ],
      "execution_count": 0,
      "outputs": [
        {
          "output_type": "execute_result",
          "data": {
            "text/html": [
              "<div>\n",
              "<style scoped>\n",
              "    .dataframe tbody tr th:only-of-type {\n",
              "        vertical-align: middle;\n",
              "    }\n",
              "\n",
              "    .dataframe tbody tr th {\n",
              "        vertical-align: top;\n",
              "    }\n",
              "\n",
              "    .dataframe thead th {\n",
              "        text-align: right;\n",
              "    }\n",
              "</style>\n",
              "<table border=\"1\" class=\"dataframe\">\n",
              "  <thead>\n",
              "    <tr style=\"text-align: right;\">\n",
              "      <th></th>\n",
              "      <th>aa</th>\n",
              "      <th>aaa</th>\n",
              "      <th>aaaa</th>\n",
              "      <th>aaah</th>\n",
              "      <th>aacute</th>\n",
              "      <th>aad</th>\n",
              "      <th>aafco</th>\n",
              "      <th>aah</th>\n",
              "      <th>aahing</th>\n",
              "      <th>aalmost</th>\n",
              "      <th>aamazon</th>\n",
              "      <th>aap</th>\n",
              "      <th>aargh</th>\n",
              "      <th>aarrgh</th>\n",
              "      <th>ab</th>\n",
              "      <th>aback</th>\n",
              "      <th>abalone</th>\n",
              "      <th>abandon</th>\n",
              "      <th>abandoned</th>\n",
              "      <th>abandoning</th>\n",
              "      <th>abates</th>\n",
              "      <th>abbazabba</th>\n",
              "      <th>abbie</th>\n",
              "      <th>abbott</th>\n",
              "      <th>abbreviated</th>\n",
              "      <th>abby</th>\n",
              "      <th>abc</th>\n",
              "      <th>abd</th>\n",
              "      <th>abdomen</th>\n",
              "      <th>abdominal</th>\n",
              "      <th>abel</th>\n",
              "      <th>aber</th>\n",
              "      <th>aberration</th>\n",
              "      <th>abetter</th>\n",
              "      <th>abhors</th>\n",
              "      <th>abide</th>\n",
              "      <th>abides</th>\n",
              "      <th>abietate</th>\n",
              "      <th>abilities</th>\n",
              "      <th>ability</th>\n",
              "      <th>...</th>\n",
              "      <th>zny</th>\n",
              "      <th>zodiac</th>\n",
              "      <th>zoe</th>\n",
              "      <th>zoey</th>\n",
              "      <th>zojirushi</th>\n",
              "      <th>zojurishi</th>\n",
              "      <th>zoka</th>\n",
              "      <th>zola</th>\n",
              "      <th>zombie</th>\n",
              "      <th>zombies</th>\n",
              "      <th>zomg</th>\n",
              "      <th>zone</th>\n",
              "      <th>zonkers</th>\n",
              "      <th>zoo</th>\n",
              "      <th>zoom</th>\n",
              "      <th>zoombies</th>\n",
              "      <th>zoomed</th>\n",
              "      <th>zoomies</th>\n",
              "      <th>zooming</th>\n",
              "      <th>zotz</th>\n",
              "      <th>zours</th>\n",
              "      <th>zout</th>\n",
              "      <th>zp</th>\n",
              "      <th>zsweet</th>\n",
              "      <th>zu</th>\n",
              "      <th>zucchini</th>\n",
              "      <th>zuchinni</th>\n",
              "      <th>zuchon</th>\n",
              "      <th>zufall</th>\n",
              "      <th>zuke</th>\n",
              "      <th>zukes</th>\n",
              "      <th>zuko</th>\n",
              "      <th>zum</th>\n",
              "      <th>zuma</th>\n",
              "      <th>zumba</th>\n",
              "      <th>zupas</th>\n",
              "      <th>zupreem</th>\n",
              "      <th>zwieback</th>\n",
              "      <th>zylitol</th>\n",
              "      <th>zylotol</th>\n",
              "    </tr>\n",
              "  </thead>\n",
              "  <tbody>\n",
              "    <tr>\n",
              "      <th>Review 1</th>\n",
              "      <td>0</td>\n",
              "      <td>0</td>\n",
              "      <td>0</td>\n",
              "      <td>0</td>\n",
              "      <td>0</td>\n",
              "      <td>0</td>\n",
              "      <td>0</td>\n",
              "      <td>0</td>\n",
              "      <td>0</td>\n",
              "      <td>0</td>\n",
              "      <td>0</td>\n",
              "      <td>0</td>\n",
              "      <td>0</td>\n",
              "      <td>0</td>\n",
              "      <td>0</td>\n",
              "      <td>0</td>\n",
              "      <td>0</td>\n",
              "      <td>0</td>\n",
              "      <td>0</td>\n",
              "      <td>0</td>\n",
              "      <td>0</td>\n",
              "      <td>0</td>\n",
              "      <td>0</td>\n",
              "      <td>0</td>\n",
              "      <td>0</td>\n",
              "      <td>0</td>\n",
              "      <td>0</td>\n",
              "      <td>0</td>\n",
              "      <td>0</td>\n",
              "      <td>0</td>\n",
              "      <td>0</td>\n",
              "      <td>0</td>\n",
              "      <td>0</td>\n",
              "      <td>0</td>\n",
              "      <td>0</td>\n",
              "      <td>0</td>\n",
              "      <td>0</td>\n",
              "      <td>0</td>\n",
              "      <td>0</td>\n",
              "      <td>0</td>\n",
              "      <td>...</td>\n",
              "      <td>0</td>\n",
              "      <td>0</td>\n",
              "      <td>0</td>\n",
              "      <td>0</td>\n",
              "      <td>0</td>\n",
              "      <td>0</td>\n",
              "      <td>0</td>\n",
              "      <td>0</td>\n",
              "      <td>0</td>\n",
              "      <td>0</td>\n",
              "      <td>0</td>\n",
              "      <td>0</td>\n",
              "      <td>0</td>\n",
              "      <td>0</td>\n",
              "      <td>0</td>\n",
              "      <td>0</td>\n",
              "      <td>0</td>\n",
              "      <td>0</td>\n",
              "      <td>0</td>\n",
              "      <td>0</td>\n",
              "      <td>0</td>\n",
              "      <td>0</td>\n",
              "      <td>0</td>\n",
              "      <td>0</td>\n",
              "      <td>0</td>\n",
              "      <td>0</td>\n",
              "      <td>0</td>\n",
              "      <td>0</td>\n",
              "      <td>0</td>\n",
              "      <td>0</td>\n",
              "      <td>0</td>\n",
              "      <td>0</td>\n",
              "      <td>0</td>\n",
              "      <td>0</td>\n",
              "      <td>0</td>\n",
              "      <td>0</td>\n",
              "      <td>0</td>\n",
              "      <td>0</td>\n",
              "      <td>0</td>\n",
              "      <td>0</td>\n",
              "    </tr>\n",
              "    <tr>\n",
              "      <th>Review 2</th>\n",
              "      <td>0</td>\n",
              "      <td>0</td>\n",
              "      <td>0</td>\n",
              "      <td>0</td>\n",
              "      <td>0</td>\n",
              "      <td>0</td>\n",
              "      <td>0</td>\n",
              "      <td>0</td>\n",
              "      <td>0</td>\n",
              "      <td>0</td>\n",
              "      <td>0</td>\n",
              "      <td>0</td>\n",
              "      <td>0</td>\n",
              "      <td>0</td>\n",
              "      <td>0</td>\n",
              "      <td>0</td>\n",
              "      <td>0</td>\n",
              "      <td>0</td>\n",
              "      <td>0</td>\n",
              "      <td>0</td>\n",
              "      <td>0</td>\n",
              "      <td>0</td>\n",
              "      <td>0</td>\n",
              "      <td>0</td>\n",
              "      <td>0</td>\n",
              "      <td>0</td>\n",
              "      <td>0</td>\n",
              "      <td>0</td>\n",
              "      <td>0</td>\n",
              "      <td>0</td>\n",
              "      <td>0</td>\n",
              "      <td>0</td>\n",
              "      <td>0</td>\n",
              "      <td>0</td>\n",
              "      <td>0</td>\n",
              "      <td>0</td>\n",
              "      <td>0</td>\n",
              "      <td>0</td>\n",
              "      <td>0</td>\n",
              "      <td>0</td>\n",
              "      <td>...</td>\n",
              "      <td>0</td>\n",
              "      <td>0</td>\n",
              "      <td>0</td>\n",
              "      <td>0</td>\n",
              "      <td>0</td>\n",
              "      <td>0</td>\n",
              "      <td>0</td>\n",
              "      <td>0</td>\n",
              "      <td>0</td>\n",
              "      <td>0</td>\n",
              "      <td>0</td>\n",
              "      <td>0</td>\n",
              "      <td>0</td>\n",
              "      <td>0</td>\n",
              "      <td>0</td>\n",
              "      <td>0</td>\n",
              "      <td>0</td>\n",
              "      <td>0</td>\n",
              "      <td>0</td>\n",
              "      <td>0</td>\n",
              "      <td>0</td>\n",
              "      <td>0</td>\n",
              "      <td>0</td>\n",
              "      <td>0</td>\n",
              "      <td>0</td>\n",
              "      <td>0</td>\n",
              "      <td>0</td>\n",
              "      <td>0</td>\n",
              "      <td>0</td>\n",
              "      <td>0</td>\n",
              "      <td>0</td>\n",
              "      <td>0</td>\n",
              "      <td>0</td>\n",
              "      <td>0</td>\n",
              "      <td>0</td>\n",
              "      <td>0</td>\n",
              "      <td>0</td>\n",
              "      <td>0</td>\n",
              "      <td>0</td>\n",
              "      <td>0</td>\n",
              "    </tr>\n",
              "  </tbody>\n",
              "</table>\n",
              "<p>2 rows × 34726 columns</p>\n",
              "</div>"
            ],
            "text/plain": [
              "          aa  aaa  aaaa  aaah  ...  zupreem  zwieback  zylitol  zylotol\n",
              "Review 1   0    0     0     0  ...        0         0        0        0\n",
              "Review 2   0    0     0     0  ...        0         0        0        0\n",
              "\n",
              "[2 rows x 34726 columns]"
            ]
          },
          "metadata": {
            "tags": []
          },
          "execution_count": 23
        }
      ]
    },
    {
      "cell_type": "markdown",
      "metadata": {
        "id": "no8TFAyNiV1q",
        "colab_type": "text"
      },
      "source": [
        "#__Logistic Regression__\n"
      ]
    },
    {
      "cell_type": "markdown",
      "metadata": {
        "id": "rY1VaLK9moql",
        "colab_type": "text"
      },
      "source": [
        "##___Applying Logistic Regression___"
      ]
    },
    {
      "cell_type": "markdown",
      "metadata": {
        "id": "NbeL4xi7l-a6",
        "colab_type": "text"
      },
      "source": [
        "What to Know:\n",
        "- Seeks to predict the probability that the output variable will fall into a category based on predictor variables\n",
        "- Probability is then used to classify an observation\n",
        "- Generally used when dependent variable is binary\n",
        "  - Whether the dependent variable is 0 or 1\n",
        "  - In our case the text is either negative (0) or positive (1)\n"
      ]
    },
    {
      "cell_type": "code",
      "metadata": {
        "id": "9tnrLB8n57o2",
        "colab_type": "code",
        "outputId": "b0c83c95-fa68-462d-bc9c-3dfb7601a15e",
        "colab": {
          "base_uri": "https://localhost:8080/",
          "height": 231
        }
      },
      "source": [
        "from sklearn.linear_model import LogisticRegression\n",
        "from sklearn import metrics \n",
        "\n",
        "clf = LogisticRegression() #Have to initiate the formula\n",
        "clf.fit(vector, train_y) #By fitting the data, coefficiants for the logistic regression equation are created"
      ],
      "execution_count": 0,
      "outputs": [
        {
          "output_type": "stream",
          "text": [
            "/usr/local/lib/python3.6/dist-packages/sklearn/linear_model/_logistic.py:940: ConvergenceWarning: lbfgs failed to converge (status=1):\n",
            "STOP: TOTAL NO. of ITERATIONS REACHED LIMIT.\n",
            "\n",
            "Increase the number of iterations (max_iter) or scale the data as shown in:\n",
            "    https://scikit-learn.org/stable/modules/preprocessing.html\n",
            "Please also refer to the documentation for alternative solver options:\n",
            "    https://scikit-learn.org/stable/modules/linear_model.html#logistic-regression\n",
            "  extra_warning_msg=_LOGISTIC_SOLVER_CONVERGENCE_MSG)\n"
          ],
          "name": "stderr"
        },
        {
          "output_type": "execute_result",
          "data": {
            "text/plain": [
              "LogisticRegression(C=1.0, class_weight=None, dual=False, fit_intercept=True,\n",
              "                   intercept_scaling=1, l1_ratio=None, max_iter=100,\n",
              "                   multi_class='auto', n_jobs=None, penalty='l2',\n",
              "                   random_state=None, solver='lbfgs', tol=0.0001, verbose=0,\n",
              "                   warm_start=False)"
            ]
          },
          "metadata": {
            "tags": []
          },
          "execution_count": 21
        }
      ]
    },
    {
      "cell_type": "markdown",
      "metadata": {
        "id": "t3BCMndNocyb",
        "colab_type": "text"
      },
      "source": [
        "##___Finding the Coefficient for Each Word___\n"
      ]
    },
    {
      "cell_type": "markdown",
      "metadata": {
        "id": "CPrSQCegmfTr",
        "colab_type": "text"
      },
      "source": [
        "- Below the _Sentiment_ column shows the coefficients for words in the logistic regression formula\n",
        "- They were created _after_ fitting the logistic regression formula"
      ]
    },
    {
      "cell_type": "code",
      "metadata": {
        "id": "RUles_WloAfa",
        "colab_type": "code",
        "outputId": "ec13d79c-97e7-475d-ade6-b16968e13410",
        "colab": {
          "base_uri": "https://localhost:8080/",
          "height": 388
        }
      },
      "source": [
        "#Make some sort of graph from these\n",
        "words = vectorizer.get_feature_names() #Get each word name\n",
        "word_sentiment = pd.DataFrame(data = list(zip(words, clf.coef_[0])), columns = ['Word', 'Sentiment'])\n",
        "word_sentiment.sort_values(by='Sentiment')"
      ],
      "execution_count": 0,
      "outputs": [
        {
          "output_type": "execute_result",
          "data": {
            "text/html": [
              "<div>\n",
              "<style scoped>\n",
              "    .dataframe tbody tr th:only-of-type {\n",
              "        vertical-align: middle;\n",
              "    }\n",
              "\n",
              "    .dataframe tbody tr th {\n",
              "        vertical-align: top;\n",
              "    }\n",
              "\n",
              "    .dataframe thead th {\n",
              "        text-align: right;\n",
              "    }\n",
              "</style>\n",
              "<table border=\"1\" class=\"dataframe\">\n",
              "  <thead>\n",
              "    <tr style=\"text-align: right;\">\n",
              "      <th></th>\n",
              "      <th>Word</th>\n",
              "      <th>Sentiment</th>\n",
              "    </tr>\n",
              "  </thead>\n",
              "  <tbody>\n",
              "    <tr>\n",
              "      <th>34136</th>\n",
              "      <td>worst</td>\n",
              "      <td>-2.525609</td>\n",
              "    </tr>\n",
              "    <tr>\n",
              "      <th>32642</th>\n",
              "      <td>useless</td>\n",
              "      <td>-2.331302</td>\n",
              "    </tr>\n",
              "    <tr>\n",
              "      <th>8547</th>\n",
              "      <td>disappointing</td>\n",
              "      <td>-2.328762</td>\n",
              "    </tr>\n",
              "    <tr>\n",
              "      <th>30642</th>\n",
              "      <td>terrible</td>\n",
              "      <td>-2.231142</td>\n",
              "    </tr>\n",
              "    <tr>\n",
              "      <th>30923</th>\n",
              "      <td>threw</td>\n",
              "      <td>-2.097752</td>\n",
              "    </tr>\n",
              "    <tr>\n",
              "      <th>...</th>\n",
              "      <td>...</td>\n",
              "      <td>...</td>\n",
              "    </tr>\n",
              "    <tr>\n",
              "      <th>28363</th>\n",
              "      <td>soothing</td>\n",
              "      <td>1.741434</td>\n",
              "    </tr>\n",
              "    <tr>\n",
              "      <th>8021</th>\n",
              "      <td>department</td>\n",
              "      <td>1.782210</td>\n",
              "    </tr>\n",
              "    <tr>\n",
              "      <th>22820</th>\n",
              "      <td>pleased</td>\n",
              "      <td>1.884260</td>\n",
              "    </tr>\n",
              "    <tr>\n",
              "      <th>24899</th>\n",
              "      <td>refreshing</td>\n",
              "      <td>2.119515</td>\n",
              "    </tr>\n",
              "    <tr>\n",
              "      <th>14500</th>\n",
              "      <td>hooked</td>\n",
              "      <td>2.465368</td>\n",
              "    </tr>\n",
              "  </tbody>\n",
              "</table>\n",
              "<p>34618 rows × 2 columns</p>\n",
              "</div>"
            ],
            "text/plain": [
              "                Word  Sentiment\n",
              "34136          worst  -2.525609\n",
              "32642        useless  -2.331302\n",
              "8547   disappointing  -2.328762\n",
              "30642       terrible  -2.231142\n",
              "30923          threw  -2.097752\n",
              "...              ...        ...\n",
              "28363       soothing   1.741434\n",
              "8021      department   1.782210\n",
              "22820        pleased   1.884260\n",
              "24899     refreshing   2.119515\n",
              "14500         hooked   2.465368\n",
              "\n",
              "[34618 rows x 2 columns]"
            ]
          },
          "metadata": {
            "tags": []
          },
          "execution_count": 22
        }
      ]
    },
    {
      "cell_type": "code",
      "metadata": {
        "id": "7bfWh2CR-6kB",
        "colab_type": "code",
        "outputId": "61ed363d-36af-484d-9cb9-bf92743f9670",
        "colab": {
          "base_uri": "https://localhost:8080/",
          "height": 366
        }
      },
      "source": [
        "positive_words = word_sentiment.sort_values(by='Sentiment')[-10:] #Grab the top 10 most positive words\n",
        "plt.figure(figsize=(15,5))\n",
        "plt.bar(positive_words['Word'], positive_words['Sentiment'], color='g') #Plot word by its sentiment\n",
        "plt.title('Weights for Positive Words')\n",
        "plt.xlabel('Most Positive Words')\n",
        "plt.ylabel('Positive Sentiment')"
      ],
      "execution_count": 0,
      "outputs": [
        {
          "output_type": "execute_result",
          "data": {
            "text/plain": [
              "Text(0, 0.5, 'Positive Sentiment')"
            ]
          },
          "metadata": {
            "tags": []
          },
          "execution_count": 23
        },
        {
          "output_type": "display_data",
          "data": {
            "image/png": "[encoded data removed]",
            "text/plain": [
              "<Figure size 1080x360 with 1 Axes>"
            ]
          },
          "metadata": {
            "tags": [],
            "needs_background": "light"
          }
        }
      ]
    },
    {
      "cell_type": "code",
      "metadata": {
        "id": "F-Yaxa2HQifI",
        "colab_type": "code",
        "outputId": "d7852837-1125-4ad8-88e3-d566629c1600",
        "colab": {
          "base_uri": "https://localhost:8080/",
          "height": 366
        }
      },
      "source": [
        "negative_words = word_sentiment.sort_values(by='Sentiment')[:10] #Grab top 10 most negative words\n",
        "\n",
        "abs_sentiment = [abs(sentiment) for sentiment in negative_words['Sentiment']]#Need to take abosulte value of negative words to accuratley plot\n",
        "abs_df = pd.DataFrame(data = list(zip(negative_words['Word'], abs_sentiment)), columns = ['Word', 'Abs Sentiment']) #Create a dataframe with the absoulute value\n",
        "abs_df = abs_df.iloc[::-1] #Reverse dataframe so that the plot is in ascending order\n",
        "\n",
        "\n",
        "plt.figure(figsize=(15,5))\n",
        "plt.bar(abs_df['Word'], -abs_df['Abs Sentiment'], color='r')\n",
        "plt.title('Weights for Negative Words')\n",
        "plt.xlabel('Most Negative Words')\n",
        "plt.ylabel('Negative Sentiment')"
      ],
      "execution_count": 0,
      "outputs": [
        {
          "output_type": "execute_result",
          "data": {
            "text/plain": [
              "Text(0, 0.5, 'Negative Sentiment')"
            ]
          },
          "metadata": {
            "tags": []
          },
          "execution_count": 24
        },
        {
          "output_type": "display_data",
          "data": {
            "image/png": "[encoded data removed]",
            "text/plain": [
              "<Figure size 1080x360 with 1 Axes>"
            ]
          },
          "metadata": {
            "tags": [],
            "needs_background": "light"
          }
        }
      ]
    },
    {
      "cell_type": "markdown",
      "metadata": {
        "id": "uC0g0vUx9vmY",
        "colab_type": "text"
      },
      "source": [
        "#__Accuracy Analysis__"
      ]
    },
    {
      "cell_type": "markdown",
      "metadata": {
        "id": "trInNawOnZVu",
        "colab_type": "text"
      },
      "source": [
        "- Using the logistic regression equation above and the test vector, we predict whether a review will be positive or negative\n",
        "- We then compare the actual rating versus the predicted rating to get an accuracy score"
      ]
    },
    {
      "cell_type": "code",
      "metadata": {
        "id": "xQae4UzJeAW4",
        "colab_type": "code",
        "outputId": "6369dc23-b77c-4465-c62c-aa54b1a7353c",
        "colab": {
          "base_uri": "https://localhost:8080/",
          "height": 33
        }
      },
      "source": [
        "vectors_test = vectorizer.transform(test_x) #Now we create the vector for the test set\n",
        "prediction = clf.predict(vectors_test)\n",
        "accuracy = metrics.accuracy_score(test_y, prediction)\n",
        "print(str(accuracy * 100) + '%')"
      ],
      "execution_count": 0,
      "outputs": [
        {
          "output_type": "stream",
          "text": [
            "86.56152101112671%\n"
          ],
          "name": "stdout"
        }
      ]
    },
    {
      "cell_type": "markdown",
      "metadata": {
        "id": "X2jX9k_-sFxk",
        "colab_type": "text"
      },
      "source": [
        "##___Actual versus Predicted___\n",
        "\n"
      ]
    },
    {
      "cell_type": "code",
      "metadata": {
        "id": "8vwMm9izpxOa",
        "colab_type": "code",
        "outputId": "56c5f603-d10e-4c15-ebe4-43691af99c14",
        "colab": {
          "base_uri": "https://localhost:8080/",
          "height": 331
        }
      },
      "source": [
        "feature_coefs = pd.DataFrame(data = list(zip(test_y, prediction)), columns = ['Actual', 'Predicted'])\n",
        "feature_coefs.head(10) #Shows first ten results of actual versus predicted"
      ],
      "execution_count": 0,
      "outputs": [
        {
          "output_type": "execute_result",
          "data": {
            "text/html": [
              "<div>\n",
              "<style scoped>\n",
              "    .dataframe tbody tr th:only-of-type {\n",
              "        vertical-align: middle;\n",
              "    }\n",
              "\n",
              "    .dataframe tbody tr th {\n",
              "        vertical-align: top;\n",
              "    }\n",
              "\n",
              "    .dataframe thead th {\n",
              "        text-align: right;\n",
              "    }\n",
              "</style>\n",
              "<table border=\"1\" class=\"dataframe\">\n",
              "  <thead>\n",
              "    <tr style=\"text-align: right;\">\n",
              "      <th></th>\n",
              "      <th>Actual</th>\n",
              "      <th>Predicted</th>\n",
              "    </tr>\n",
              "  </thead>\n",
              "  <tbody>\n",
              "    <tr>\n",
              "      <th>0</th>\n",
              "      <td>positive</td>\n",
              "      <td>positive</td>\n",
              "    </tr>\n",
              "    <tr>\n",
              "      <th>1</th>\n",
              "      <td>positive</td>\n",
              "      <td>positive</td>\n",
              "    </tr>\n",
              "    <tr>\n",
              "      <th>2</th>\n",
              "      <td>negative</td>\n",
              "      <td>negative</td>\n",
              "    </tr>\n",
              "    <tr>\n",
              "      <th>3</th>\n",
              "      <td>negative</td>\n",
              "      <td>positive</td>\n",
              "    </tr>\n",
              "    <tr>\n",
              "      <th>4</th>\n",
              "      <td>negative</td>\n",
              "      <td>negative</td>\n",
              "    </tr>\n",
              "    <tr>\n",
              "      <th>5</th>\n",
              "      <td>positive</td>\n",
              "      <td>positive</td>\n",
              "    </tr>\n",
              "    <tr>\n",
              "      <th>6</th>\n",
              "      <td>positive</td>\n",
              "      <td>positive</td>\n",
              "    </tr>\n",
              "    <tr>\n",
              "      <th>7</th>\n",
              "      <td>negative</td>\n",
              "      <td>negative</td>\n",
              "    </tr>\n",
              "    <tr>\n",
              "      <th>8</th>\n",
              "      <td>positive</td>\n",
              "      <td>positive</td>\n",
              "    </tr>\n",
              "    <tr>\n",
              "      <th>9</th>\n",
              "      <td>positive</td>\n",
              "      <td>positive</td>\n",
              "    </tr>\n",
              "  </tbody>\n",
              "</table>\n",
              "</div>"
            ],
            "text/plain": [
              "     Actual Predicted\n",
              "0  positive  positive\n",
              "1  positive  positive\n",
              "2  negative  negative\n",
              "3  negative  positive\n",
              "4  negative  negative\n",
              "5  positive  positive\n",
              "6  positive  positive\n",
              "7  negative  negative\n",
              "8  positive  positive\n",
              "9  positive  positive"
            ]
          },
          "metadata": {
            "tags": []
          },
          "execution_count": 26
        }
      ]
    },
    {
      "cell_type": "markdown",
      "metadata": {
        "id": "nfmW-jEnBjRB",
        "colab_type": "text"
      },
      "source": [
        "#__Confusion Matrix__"
      ]
    },
    {
      "cell_type": "code",
      "metadata": {
        "id": "8lijldW8msy_",
        "colab_type": "code",
        "outputId": "e9c43d78-c2dc-4088-c72b-da1c3600a1a0",
        "colab": {
          "base_uri": "https://localhost:8080/",
          "height": 49
        }
      },
      "source": [
        "from sklearn.metrics import confusion_matrix\n",
        "cm = confusion_matrix(test_y, prediction)\n",
        "print(cm) #Quickly shows the confusion matrix of the model"
      ],
      "execution_count": 0,
      "outputs": [
        {
          "output_type": "stream",
          "text": [
            "[[1182  758]\n",
            " [ 486 6831]]\n"
          ],
          "name": "stdout"
        }
      ]
    },
    {
      "cell_type": "code",
      "metadata": {
        "id": "PvwO9mV1dT_P",
        "colab_type": "code",
        "outputId": "a0c4066f-6df6-4b5d-d20b-bef71982c148",
        "colab": {
          "base_uri": "https://localhost:8080/",
          "height": 256
        }
      },
      "source": [
        "# Using matshow here just because it sets the ticks up nicely. imshow is faster.\n",
        "color = plt.cm.GnBu\n",
        "plt.matshow(cm, cmap=color) #Use matplots heatmap\n",
        "plt.colorbar() #Shows legend of intensity of color\n",
        "plt.ylabel('Actual') #Actual \n",
        "plt.title('Predicted') #Xvalue for confusion matrix\n",
        "for i in range(2):\n",
        "    for j in range(2):\n",
        "        plt.text(j,i,str(cm[i][j])) #Plot the text of each value in confusion matrix to each box\n",
        "plt.show()"
      ],
      "execution_count": 0,
      "outputs": [
        {
          "output_type": "display_data",
          "data": {
            "image/png": "[encoded data removed]",
            "text/plain": [
              "<Figure size 288x288 with 2 Axes>"
            ]
          },
          "metadata": {
            "tags": [],
            "needs_background": "light"
          }
        }
      ]
    },
    {
      "cell_type": "markdown",
      "metadata": {
        "id": "7gvoRBBOiEDZ",
        "colab_type": "text"
      },
      "source": [
        "- Remember, most reviews are positive, which is why there are so many True Positives (_bottom right corner_)"
      ]
    }
  ]
}